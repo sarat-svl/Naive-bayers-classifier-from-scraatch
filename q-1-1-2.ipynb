{
 "cells": [
  {
   "cell_type": "markdown",
   "metadata": {},
   "source": [
    "PART 1 "
   ]
  },
  {
   "cell_type": "code",
   "execution_count": 1,
   "metadata": {},
   "outputs": [],
   "source": [
    "import sys\n",
    "import pandas as pd\n",
    "import numpy as np\n",
    "import operator\n",
    "import math\n",
    "from matplotlib import pyplot as plt"
   ]
  },
  {
   "cell_type": "code",
   "execution_count": null,
   "metadata": {},
   "outputs": [],
   "source": [
    "#Taking input of test file path\n",
    "testfile = sys.argv[1]"
   ]
  },
  {
   "cell_type": "code",
   "execution_count": 2,
   "metadata": {},
   "outputs": [],
   "source": [
    "#Adding column names to dataset\n",
    "col_names = ['sepal_length', 'sepal_width', 'petal_length', 'petal_width', 'species']\n",
    "iris = pd.read_csv('C:/Users/sarat/Desktop/assignment 2/Iris/Iris.csv',header = None,names = col_names)"
   ]
  },
  {
   "cell_type": "code",
   "execution_count": 3,
   "metadata": {},
   "outputs": [],
   "source": [
    "X = iris\n",
    "y = iris.species"
   ]
  },
  {
   "cell_type": "code",
   "execution_count": 4,
   "metadata": {},
   "outputs": [],
   "source": [
    "# Split data into training and testing sets.\n",
    "from sklearn.model_selection import train_test_split\n",
    "X_train, X_test, y_train, y_test = train_test_split(X, y, test_size = 0.2, random_state=42)\n",
    "X_test = X_test.drop('species',1)"
   ]
  },
  {
   "cell_type": "code",
   "execution_count": 5,
   "metadata": {},
   "outputs": [],
   "source": [
    "# Euclidean Distance Caculator\n",
    "def dist(a, b, ax=1):\n",
    "    return math.sqrt(sum([(a - b) ** 2 for a, b in zip(a, b)]))"
   ]
  },
  {
   "cell_type": "code",
   "execution_count": 6,
   "metadata": {},
   "outputs": [],
   "source": [
    "#Utility function to give maximum occurance of value among k values\n",
    "def max_occur(k_near):\n",
    "    ans = {}\n",
    "    for i in list(k_near.keys()):\n",
    "        if(k_near[i] not in ans):\n",
    "            ans[k_near[i]] = 1\n",
    "        else:\n",
    "            ans[k_near[i]]+=1\n",
    "    return max(ans.items(), key=operator.itemgetter(1))[0]"
   ]
  },
  {
   "cell_type": "code",
   "execution_count": 7,
   "metadata": {},
   "outputs": [],
   "source": [
    "#K-NN algorithm\n",
    "def knn(X_test,X_train,k):\n",
    "    predict_Y = []\n",
    "    for i in range(len(X_test)):\n",
    "        k_near = {}\n",
    "        for j in range(len(X_train)):\n",
    "            k_dist = dist(list(X_test.iloc[i,:]),list(X_train.iloc[j,0:4]))\n",
    "            if(len(k_near)<k):\n",
    "                k_near[k_dist] = X_train.iloc[j,4]\n",
    "                max_k_near = max(k_near.keys())\n",
    "            else:\n",
    "                if(k_dist<max_k_near):\n",
    "                    del k_near[max_k_near]\n",
    "                    k_near[k_dist] = X_train.iloc[j,4]\n",
    "                    max_k_near = max(k_near.keys())\n",
    "        predict_Y.append(max_occur(k_near))\n",
    "    return predict_Y            "
   ]
  },
  {
   "cell_type": "code",
   "execution_count": 8,
   "metadata": {},
   "outputs": [],
   "source": [
    "#predicted values of testing data\n",
    "y_predict = knn(X_test,X_train,5)"
   ]
  },
  {
   "cell_type": "code",
   "execution_count": 9,
   "metadata": {},
   "outputs": [],
   "source": [
    "#Accuracy calculation\n",
    "def compare(y_predict,y_test):\n",
    "    index = {'Iris-versicolor':1,'Iris-virginica':2,'Iris-setosa':0}\n",
    "    matrix = [[0,0,0],[0,0,0],[0,0,0]]\n",
    "    for i in range(len(y_test)):\n",
    "        matrix[index[y_test[i]]][index[y_predict[i]]]+=1\n",
    "    precision = []\n",
    "    recall = []\n",
    "    f1score = []\n",
    "    count = 0\n",
    "    for i in range(len(y_test)):\n",
    "        if(y_predict[i]==y_test[i]):\n",
    "            count+=1\n",
    "    accuracy = count/len(y_test)\n",
    "    for i in range(3):\n",
    "        num = matrix[i][i]\n",
    "        den1 = 0\n",
    "        den2 = 0\n",
    "        for j in range(3):\n",
    "            den1 +=matrix[j][i]\n",
    "            den2 += matrix[i][j]\n",
    "        val1 = num/den1\n",
    "        val2 = num/den2\n",
    "        val3 = 2*(val1*val2)/(val1+val2)\n",
    "        precision.append(round(val1,2))\n",
    "        recall.append(round(val2,2))\n",
    "        f1score.append(round(val3,2))\n",
    "    print(\"                   precision    recall     f1-score\")\n",
    "    print(\"Iris-setosa       \",precision[0],\"        \",recall[0],\"      \",f1score[0])\n",
    "    print(\"Iris-versicolor   \",precision[1],\"        \",recall[1],\"     \",f1score[1])\n",
    "    print(\"Iris-virginica    \",precision[2],\"       \",recall[2],\"      \",f1score[2])\n",
    "    print(\"Accuracy : \",accuracy)\n",
    "    return"
   ]
  },
  {
   "cell_type": "code",
   "execution_count": 10,
   "metadata": {},
   "outputs": [
    {
     "name": "stdout",
     "output_type": "stream",
     "text": [
      "-------------Validation---------------------\n",
      "                   precision    recall     f1-score\n",
      "Iris-setosa        1.0          1.0        1.0\n",
      "Iris-versicolor    1.0          0.89       0.94\n",
      "Iris-virginica     0.91         1.0        0.95\n",
      "Accuracy :  0.96\n"
     ]
    }
   ],
   "source": [
    "print(\"-------------Validation---------------------\")\n",
    "compare(y_predict,list(y_test))"
   ]
  },
  {
   "cell_type": "markdown",
   "metadata": {},
   "source": [
    "TESTING DATA"
   ]
  },
  {
   "cell_type": "code",
   "execution_count": 116,
   "metadata": {},
   "outputs": [
    {
     "name": "stdout",
     "output_type": "stream",
     "text": [
      "-------For IRIS test data -------\n",
      "                   precision    recall     f1-score\n",
      "Iris-setosa        1.0          1.0        1.0\n",
      "Iris-versicolor    1.0          0.75       0.86\n",
      "Iris-virginica     0.75         1.0        0.86\n",
      "Accuracy :  0.9166666666666666\n"
     ]
    }
   ],
   "source": [
    "td1 = pd.read_csv(testfile,header = None,names = col_names)\n",
    "tX1 = td1.drop('species',1)\n",
    "ty1 = td1['species']\n",
    "ty1_predict = knn(tX1,X_train,3)\n",
    "print(\"-------For IRIS test data -------\")\n",
    "compare(ty1_predict,list(ty1))"
   ]
  },
  {
   "cell_type": "markdown",
   "metadata": {},
   "source": [
    "Using scikit learn"
   ]
  },
  {
   "cell_type": "code",
   "execution_count": 11,
   "metadata": {},
   "outputs": [
    {
     "data": {
      "text/plain": [
       "0.967741935483871"
      ]
     },
     "execution_count": 11,
     "metadata": {},
     "output_type": "execute_result"
    }
   ],
   "source": [
    "from sklearn.metrics import confusion_matrix\n",
    "iris_class = {'Iris-setosa':0, 'Iris-versicolor':1, 'Iris-virginica':2}\n",
    "iris['species_num'] = [iris_class[i] for i in iris.species]\n",
    "X = iris.drop(['species', 'species_num'], axis=1)\n",
    "y = iris.species_num\n",
    "from sklearn.model_selection import train_test_split\n",
    "## Split data into training and testing sets.\n",
    "X_train, X_test, y_train, y_test = train_test_split(X, y, random_state=42)\n",
    "## Import the Classifier.\n",
    "from sklearn.neighbors import KNeighborsClassifier\n",
    "## Instantiate the model with 5 neighbors. \n",
    "Knn = KNeighborsClassifier(n_neighbors=5)\n",
    "## Fit the model on the training data.\n",
    "Knn.fit(X_train, y_train)\n",
    "## See how the model performs on the test data.\n",
    "Knn.score(X_test, y_test)"
   ]
  },
  {
   "cell_type": "markdown",
   "metadata": {},
   "source": [
    "PART 2"
   ]
  },
  {
   "cell_type": "code",
   "execution_count": 12,
   "metadata": {},
   "outputs": [
    {
     "data": {
      "image/png": "[encoded data removed]",
      "text/plain": [
       "<Figure size 432x288 with 1 Axes>"
      ]
     },
     "metadata": {
      "needs_background": "light"
     },
     "output_type": "display_data"
    }
   ],
   "source": [
    "#plotting graph with k value as X-axis and accuracy as y-axis\n",
    "x = [3,5,7,9,11,13]\n",
    "y = [0.962,0.962,0.925,0.962,0.962,0.962]\n",
    "plt.plot(x,y)\n",
    "plt.title(\"K-value vs accuracy\")\n",
    "plt.axis([2,15,0.8,1.0])\n",
    "plt.ylabel('Accuracy')\n",
    "plt.xlabel('K-value')\n",
    "plt.grid(True)"
   ]
  },
  {
   "cell_type": "markdown",
   "metadata": {},
   "source": [
    "Larger value of k gives smoother boundary, which overall reduces the noise in dataset and improving overall accuracy."
   ]
  }
 ],
 "metadata": {
  "kernelspec": {
   "display_name": "Python 3",
   "language": "python",
   "name": "python3"
  },
  "language_info": {
   "codemirror_mode": {
    "name": "ipython",
    "version": 3
   },
   "file_extension": ".py",
   "mimetype": "text/x-python",
   "name": "python",
   "nbconvert_exporter": "python",
   "pygments_lexer": "ipython3",
   "version": "3.6.8"
  }
 },
 "nbformat": 4,
 "nbformat_minor": 2
}
