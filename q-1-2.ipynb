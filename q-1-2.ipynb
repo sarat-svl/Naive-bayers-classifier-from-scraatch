{
 "cells": [
  {
   "cell_type": "markdown",
   "metadata": {},
   "source": [
    "PART 1"
   ]
  },
  {
   "cell_type": "code",
   "execution_count": 1,
   "metadata": {},
   "outputs": [],
   "source": [
    "import sys\n",
    "import pandas as pd\n",
    "import numpy as np\n",
    "import math\n",
    "from matplotlib import pyplot as plt"
   ]
  },
  {
   "cell_type": "code",
   "execution_count": null,
   "metadata": {},
   "outputs": [],
   "source": [
    "#Taking input of test file path\n",
    "testfile = sys.argv[1]"
   ]
  },
  {
   "cell_type": "code",
   "execution_count": 2,
   "metadata": {},
   "outputs": [],
   "source": [
    "#Assigning column names to data\n",
    "\n",
    "col_names = ['ID', 'Age', 'Experience', 'Annual income', 'ZIPCode', 'Family size','Avg spending','Education level','Mortgage', 'Last accepted', 'securities', 'cd', 'internet banking','credit card']\n",
    "loan = pd.read_csv('C:/Users/sarat/Desktop/assignment 2/LoanDataset/data.csv',header = None,names = col_names)\n",
    "loan = loan[1:]"
   ]
  },
  {
   "cell_type": "code",
   "execution_count": 3,
   "metadata": {},
   "outputs": [],
   "source": [
    "#Dropping un-necessary columns\n",
    "\n",
    "drop_columns = ['ID']\n",
    "loan = loan.drop(drop_columns,1)"
   ]
  },
  {
   "cell_type": "code",
   "execution_count": 4,
   "metadata": {},
   "outputs": [],
   "source": [
    "#For identifying categorial and numerical attributes\n",
    "\n",
    "categorial = ['Education level', 'securities', 'cd','Family size', 'internet banking','credit card']\n",
    "numerical = ['Age','Experience','Annual income','Avg spending','Mortgage']"
   ]
  },
  {
   "cell_type": "code",
   "execution_count": 5,
   "metadata": {},
   "outputs": [],
   "source": [
    "X = loan\n",
    "Y = loan['Last accepted']"
   ]
  },
  {
   "cell_type": "code",
   "execution_count": 6,
   "metadata": {},
   "outputs": [],
   "source": [
    "# Split data into training and testing sets.\n",
    "\n",
    "from sklearn.model_selection import train_test_split\n",
    "X_train, X_test, Y_train, Y_test = train_test_split(X, Y, test_size = 0.2, random_state=42)\n",
    "X_test = X_test.drop('Last accepted',1)"
   ]
  },
  {
   "cell_type": "code",
   "execution_count": 7,
   "metadata": {},
   "outputs": [],
   "source": [
    "#Calculates mean of given list of data\n",
    "\n",
    "def mean(column):\n",
    "    return sum(column)/float(len(column))"
   ]
  },
  {
   "cell_type": "code",
   "execution_count": 8,
   "metadata": {},
   "outputs": [],
   "source": [
    "#Calculates standard deviation of list of data\n",
    "\n",
    "def sd(column):\n",
    "    m = mean(column)\n",
    "    var = sum([pow(x-m,2) for x in column])/float(len(column)-1)\n",
    "    return math.sqrt(var)"
   ]
  },
  {
   "cell_type": "code",
   "execution_count": 9,
   "metadata": {},
   "outputs": [],
   "source": [
    "#Calculates Gaussian distribution of particular value\n",
    "\n",
    "def prob(x, m, var):\n",
    "    e = math.exp(-(math.pow(x-m,2)/(2*math.pow(var,2))))\n",
    "    return (1/(math.sqrt(2*math.pi)*var))*e"
   ]
  },
  {
   "cell_type": "code",
   "execution_count": 10,
   "metadata": {},
   "outputs": [],
   "source": [
    "#Utility function which returns dictionary that contains numerical attributes as keys and respective \n",
    "#mean and standard deviation for a paricular outcome\n",
    "\n",
    "def num_data_prep():\n",
    "    num_data = {}\n",
    "    for i in numerical:\n",
    "        num_data[i] = {}\n",
    "        num_data[i][1] ={}\n",
    "        num_data[i][0] = {}\n",
    "        num_data[i][1]['mean'] = mean(list(X_train[i].iloc[np.where(X_train['Last accepted']==1.0)]))\n",
    "        num_data[i][1]['sd'] =  sd(list(X_train[i].iloc[np.where(X_train['Last accepted']==1.0)]))\n",
    "        num_data[i][0]['mean'] = mean(list(X_train[i].iloc[np.where(X_train['Last accepted']==0.0)]))\n",
    "        num_data[i][0]['sd'] =  sd(list(X_train[i].iloc[np.where(X_train['Last accepted']==0.0)]))\n",
    "    return num_data"
   ]
  },
  {
   "cell_type": "code",
   "execution_count": 11,
   "metadata": {},
   "outputs": [],
   "source": [
    "#Utility function which returns dictionary that contains categorial attributes as keys and respective \n",
    "#mean and standard deviation for a paricular outcome\n",
    "\n",
    "def cat_data_prep():\n",
    "    cat_data = {}\n",
    "    for i in categorial:\n",
    "        cat_data[i] = {}\n",
    "        for j in set(X_train[i]):\n",
    "            cat_data[i][j] = {}\n",
    "            py = len(np.where((X_train['Last accepted']==1.0) & (X_train[i]==j))[0])/float(len(np.where(X_train['Last accepted']==1.0)[0]))\n",
    "            pn = len(np.where((X_train['Last accepted']==0.0) & (X_train[i]==j))[0])/float(len(np.where(X_train['Last accepted']==0.0)[0]))\n",
    "            cat_data[i][j][1] = py\n",
    "            cat_data[i][j][0] = pn\n",
    "    return cat_data        "
   ]
  },
  {
   "cell_type": "markdown",
   "metadata": {},
   "source": [
    "Prediction function which takes testing dataset and implement naive bayes classifier to predict the class that particluar dataset belongs to.\n",
    "\n",
    "First it identifies whether the attribute is categorial or numerical.\n",
    "\n",
    "If it is numerical, it calculates the gaussian distribution on particular attribute value with mean and standard deviation values that are already calculated using num_data_prep function.\n",
    "\n",
    "If it is categorial, it calculates probability by using cat_data_prep function.\n",
    "\n",
    "Finally it selects class which gives maximum probability of occurance."
   ]
  },
  {
   "cell_type": "code",
   "execution_count": 12,
   "metadata": {},
   "outputs": [],
   "source": [
    "def predict_function(X_test):\n",
    "    num_data = num_data_prep()\n",
    "    cat_data = cat_data_prep()\n",
    "    test = ['Age','Experience','Annual income', 'Family size','Avg spending','Education level','Mortgage','securities','cd','internet banking','credit card']\n",
    "    Y_pred = []\n",
    "    for i in range(len(X_test)):\n",
    "        opr = 1\n",
    "        zpr = 1\n",
    "        for j in test:\n",
    "            if j in numerical:\n",
    "                opr*=prob(X_test.iloc[i][j],num_data[j][1]['mean'],num_data[j][1]['sd'])\n",
    "                zpr*=prob(X_test.iloc[i][j],num_data[j][0]['mean'],num_data[j][0]['sd'])\n",
    "            else:\n",
    "                opr*=cat_data[j][X_test.iloc[i][j]][1]\n",
    "                zpr*=cat_data[j][X_test.iloc[i][j]][0]\n",
    "        \n",
    "        #Multiplyting prob(Yes) and prob(No) to respective values\n",
    "        opr*=len(np.where(X_train['Last accepted']==1.0)[0])/float(len(X_train))\n",
    "        zpr*=len(np.where(X_train['Last accepted']==0.0)[0])/float(len(X_train)) \n",
    "        if(opr > zpr):\n",
    "            Y_pred.append(1)\n",
    "        else:\n",
    "            Y_pred.append(0)\n",
    "    return Y_pred"
   ]
  },
  {
   "cell_type": "code",
   "execution_count": 13,
   "metadata": {},
   "outputs": [],
   "source": [
    "Y_pred = predict_function(X_test)"
   ]
  },
  {
   "cell_type": "code",
   "execution_count": 14,
   "metadata": {},
   "outputs": [],
   "source": [
    "#Compare function to compare predicted and test values of testing dataset\n",
    "\n",
    "def compare(Y_test,Y_pred):\n",
    "    tp = 0\n",
    "    tn = 0\n",
    "    fp = 0\n",
    "    fn = 0\n",
    "    for i in range(len(Y_test)):\n",
    "        if(Y_test[i]==Y_pred[i]):\n",
    "            if(Y_test[i] == 1):\n",
    "                tp+=1\n",
    "            else:\n",
    "                tn+=1\n",
    "        else:\n",
    "            if(Y_pred[i]==1):\n",
    "                fp+=1\n",
    "            else:\n",
    "                fn+=1\n",
    "    precision = tp/float(tp+fp)\n",
    "    recall = tp/float(tp+fn)\n",
    "    accuracy = (tp+tn)/float(tp+tn+fp+fn)\n",
    "    error_rate = (fp+fn)/float(tp+tn+fp+fn)\n",
    "    print(\"Precision : \",precision)\n",
    "    print(\"Recall : \",recall)\n",
    "    print(\"Accuracy : \",accuracy)\n",
    "    print(\"Error rate : \",error_rate)\n",
    "    return accuracy"
   ]
  },
  {
   "cell_type": "code",
   "execution_count": 15,
   "metadata": {},
   "outputs": [
    {
     "name": "stdout",
     "output_type": "stream",
     "text": [
      "-------validation-------\n",
      "Precision :  0.6395348837209303\n",
      "Recall :  0.4661016949152542\n",
      "Accuracy :  0.8955555555555555\n",
      "Error rate :  0.10444444444444445\n"
     ]
    },
    {
     "data": {
      "text/plain": [
       "0.8955555555555555"
      ]
     },
     "execution_count": 15,
     "metadata": {},
     "output_type": "execute_result"
    }
   ],
   "source": [
    "print(\"-------validation-------\")\n",
    "compare(Y_pred,list(Y_test))"
   ]
  },
  {
   "cell_type": "code",
   "execution_count": null,
   "metadata": {},
   "outputs": [],
   "source": [
    "#For testing data:\n",
    "tloan = pd.read_csv(testfile,header = None,names = col_names)\n",
    "tloan = tloan.drop('ID',1)\n",
    "tx = tloan.drop('Last accepted',1)\n",
    "ty = tloan['Last accepted']\n",
    "yp = predict_function(tx)\n",
    "print(\"------------- For Test data -----------\")\n",
    "compare(yp,list(ty))"
   ]
  },
  {
   "cell_type": "markdown",
   "metadata": {},
   "source": [
    "PART 2"
   ]
  },
  {
   "cell_type": "markdown",
   "metadata": {},
   "source": [
    "Observations: From the below graph, we can observe that as training dataset size increases, the accuracy on test data will                   increase."
   ]
  },
  {
   "cell_type": "code",
   "execution_count": 16,
   "metadata": {},
   "outputs": [
    {
     "data": {
      "image/png": "[encoded data removed]",
      "text/plain": [
       "<Figure size 432x288 with 1 Axes>"
      ]
     },
     "metadata": {
      "needs_background": "light"
     },
     "output_type": "display_data"
    }
   ],
   "source": [
    "#plotting graph with training dataset size on X-axis and accuracy of test set on y-axis\n",
    "\n",
    "x = [10,20,30,40,50,60,70,80,90]\n",
    "y = [90,90,90,90,90,90,89.4,89.4,91.5]\n",
    "plt.plot(x,y)\n",
    "plt.title(\"Training dataset size vs accuracy\")\n",
    "plt.ylabel('Accuracy')\n",
    "plt.xlabel('Training set size')\n",
    "plt.grid(True)"
   ]
  },
  {
   "cell_type": "code",
   "execution_count": null,
   "metadata": {},
   "outputs": [],
   "source": []
  }
 ],
 "metadata": {
  "kernelspec": {
   "display_name": "Python 3",
   "language": "python",
   "name": "python3"
  },
  "language_info": {
   "codemirror_mode": {
    "name": "ipython",
    "version": 3
   },
   "file_extension": ".py",
   "mimetype": "text/x-python",
   "name": "python",
   "nbconvert_exporter": "python",
   "pygments_lexer": "ipython3",
   "version": "3.6.8"
  }
 },
 "nbformat": 4,
 "nbformat_minor": 2
}
